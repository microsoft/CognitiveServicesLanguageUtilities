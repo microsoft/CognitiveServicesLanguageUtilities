{
  "nbformat": 4,
  "nbformat_minor": 0,
  "metadata": {
    "colab": {
      "name": "fuzzy_matching",
      "provenance": [],
      "collapsed_sections": [],
      "toc_visible": true
    },
    "kernelspec": {
      "name": "python3",
      "display_name": "Python 3"
    }
  },
  "cells": [
    {
      "cell_type": "markdown",
      "metadata": {
        "id": "wX62cV4UYjU6"
      },
      "source": [
        "## **Optimized Fuzzy Matching**"
      ]
    },
    {
      "cell_type": "markdown",
      "metadata": {
        "id": "bpl_2hIrjnoL"
      },
      "source": [
        "**References:**\n",
        "\n",
        "article: https://bergvca.github.io/2017/10/14/super-fast-string-matching.html\n",
        "\n",
        "and this one also: https://towardsdatascience.com/fuzzy-matching-at-scale-84f2bfd0c536\n",
        "\n",
        "original colab: https://colab.research.google.com/drive/1qhBwDRitrgapNhyaHGxCW8uKK5SWJblW"
      ]
    },
    {
      "cell_type": "markdown",
      "metadata": {
        "id": "WdRa19qolDtr"
      },
      "source": [
        "**Notes:**\n",
        "please load this document first:\n",
        "https://drive.google.com/file/d/1EAXvkiik5EO8FcpEwfX3muQEm6cqPGrQ/view?usp=sharing"
      ]
    },
    {
      "cell_type": "markdown",
      "metadata": {
        "id": "YLXyelMmA0s7"
      },
      "source": [
        "## **Dataset Loader**"
      ]
    },
    {
      "cell_type": "code",
      "metadata": {
        "id": "qfL9Zanyjm_H"
      },
      "source": [
        "def algorithm(word, wordList):\n",
        "  # create feature vector for all words\n",
        "  # find cosine similarity\n",
        "  # return closets word\n",
        "  combinedList = ['asd', 'asdasd']\n",
        "  ngram(word): \n",
        "  pass"
      ],
      "execution_count": null,
      "outputs": []
    },
    {
      "cell_type": "code",
      "metadata": {
        "colab": {
          "base_uri": "https://localhost:8080/"
        },
        "id": "gm_rp4qOLZPs",
        "outputId": "4dedbbd3-d5a4-4f8a-bef5-9aaff895f01c"
      },
      "source": [
        "!pip install googledrivedownloader\n",
        "from google_drive_downloader import GoogleDriveDownloader as gdd\n",
        "import pandas as pd"
      ],
      "execution_count": null,
      "outputs": [
        {
          "output_type": "stream",
          "text": [
            "Requirement already satisfied: googledrivedownloader in /usr/local/lib/python3.6/dist-packages (0.4)\n"
          ],
          "name": "stdout"
        }
      ]
    },
    {
      "cell_type": "code",
      "metadata": {
        "id": "6KIJ0XG3J6AY"
      },
      "source": [
        "class DataSetLoader:\n",
        "  # some attributes\n",
        "  google_drive_file_id = '1vcaNbiZkZ-6ZORn-S_UbdGY3kGrCx4O7'\n",
        "  target_column_name = 'headline_text'\n",
        "  # google_drive_file_id = '1pq9EF8_4K5KLMNok4BF5TRTcvmHseXHF'\n",
        "  # target_column_name = 'buyer'\n",
        "  local_file_dir = './dataset.csv'\n",
        "  dataset = None\n",
        "\n",
        "  # load dataset\n",
        "  def download_and_load_dataset(_self):\n",
        "    # download dataset\n",
        "    gdd.download_file_from_google_drive(file_id=_self.google_drive_file_id, dest_path=_self.local_file_dir, overwrite=True)\n",
        "    # load dataset\n",
        "    dataset =  pd.read_csv(_self.local_file_dir,encoding='latin')\n",
        "    _self.dataset = dataset[_self.target_column_name].unique()\n",
        "\n",
        "  # get lists\n",
        "  def get_utterancelist_and_sentencelist(_self, utterance_list_size, sentence_list_size):\n",
        "    # create lists\n",
        "    utterance_list = _self.dataset[0:utterance_list_size].tolist()\n",
        "    sentence_list = _self.dataset[utterance_list_size:sentence_list_size + utterance_list_size].tolist()\n",
        "    # return result\n",
        "    return utterance_list, sentence_list"
      ],
      "execution_count": null,
      "outputs": []
    },
    {
      "cell_type": "markdown",
      "metadata": {
        "id": "5nLkYuuVJnFw"
      },
      "source": [
        "# **Edit Distance Similarity**"
      ]
    },
    {
      "cell_type": "code",
      "metadata": {
        "id": "lP9OpXuQHh0Q"
      },
      "source": [
        "class SimilarityEditDistance:\n",
        "  # calculate edit distance\n",
        "  def calculate_edit_distance(_self, word1, word2):\n",
        "    size_a = len(word1)\n",
        "    size_b = len(word2)\n",
        "    dp = [[0 for _ in range(size_b + 1)] for _ in range(size_a + 1)]\n",
        "    for i in range(size_a + 1):\n",
        "        dp[i][0] = i        \n",
        "    for i in range(size_b + 1):\n",
        "        dp[0][i] = i\n",
        "    for i in range(1, size_a + 1):\n",
        "        for j in range(1, size_b + 1):\n",
        "            if word1[i - 1] == word2[j - 1]:\n",
        "                dp[i][j] = dp[i - 1][j - 1]\n",
        "            else:\n",
        "                dp[i][j] = min(dp[i - 1][j - 1], dp[i - 1][j], dp[i][j - 1]) + 1\n",
        "    return dp[size_a][size_b]\n",
        "\n",
        "  # match similarity for single utterance\n",
        "  def match_similarity(_self, utterance, sentence_list):\n",
        "    min_distance = 10000000\n",
        "    closest_string = \"\"\n",
        "    for sentence in sentence_list:\n",
        "      distance = _self.calculate_edit_distance(utterance, sentence)\n",
        "      if (distance < min_distance):\n",
        "        min_distance = distance\n",
        "        closest_string = sentence\n",
        "    return closest_string, min_distance\n",
        "\n",
        "  # match similarity for single utterance batch\n",
        "  def match_similarity_batch(_self, utterance_list, sentence_list):\n",
        "    result = []\n",
        "    for utterance in utterance_list:\n",
        "      closest_string, min_distance = _self.match_similarity(utterance, sentence_list)\n",
        "      result.append( (utterance, closest_string, min_distance) )\n",
        "    return result"
      ],
      "execution_count": null,
      "outputs": []
    },
    {
      "cell_type": "markdown",
      "metadata": {
        "id": "NJUp15hmTEub"
      },
      "source": [
        "## **TF-IDF Cosine Similarity - No Preprocessing**"
      ]
    },
    {
      "cell_type": "code",
      "metadata": {
        "colab": {
          "base_uri": "https://localhost:8080/"
        },
        "id": "Al2Gv9TLTYdh",
        "outputId": "e6ec4dda-7e0e-4f68-b3fb-bec9884a9288"
      },
      "source": [
        "import sys\n",
        "import time\n",
        "import pandas as pd\n",
        "pd.set_option('display.max_colwidth', -1)\n",
        "from tqdm import tqdm\n",
        "from google.colab import drive\n",
        "import os\n",
        "from matplotlib import style\n",
        "style.use('fivethirtyeight')\n",
        "\n",
        "# cosine similarity\n",
        "import numpy as np\n",
        "from scipy.sparse import csr_matrix\n",
        "!pip install sparse_dot_topn #uncomment to install\n",
        "import sparse_dot_topn.sparse_dot_topn as ct\n",
        "\n",
        "# ngrams\n",
        "import re\n",
        "!pip install ftfy # amazing text cleaning for decode issues..\n",
        "from ftfy import fix_text\n",
        "\n",
        "# feature matrix\n",
        "from sklearn.feature_extraction.text import TfidfVectorizer"
      ],
      "execution_count": null,
      "outputs": [
        {
          "output_type": "stream",
          "text": [
            "/usr/local/lib/python3.6/dist-packages/ipykernel_launcher.py:4: FutureWarning: Passing a negative integer is deprecated in version 1.0 and will not be supported in future version. Instead, use None to not limit the column width.\n",
            "  after removing the cwd from sys.path.\n"
          ],
          "name": "stderr"
        },
        {
          "output_type": "stream",
          "text": [
            "Collecting sparse_dot_topn\n",
            "\u001b[?25l  Downloading https://files.pythonhosted.org/packages/70/d5/2a3a52acd89344f0c45cae320bd41ee49573caec656834b98c5ea48669b7/sparse_dot_topn-0.2.9.tar.gz (106kB)\n",
            "\u001b[K     |████████████████████████████████| 112kB 5.5MB/s \n",
            "\u001b[?25hRequirement already satisfied: setuptools>=18.0 in /usr/local/lib/python3.6/dist-packages (from sparse_dot_topn) (51.1.1)\n",
            "Requirement already satisfied: cython>=0.29.15 in /usr/local/lib/python3.6/dist-packages (from sparse_dot_topn) (0.29.21)\n",
            "Requirement already satisfied: numpy>=1.16.6 in /usr/local/lib/python3.6/dist-packages (from sparse_dot_topn) (1.19.5)\n",
            "Requirement already satisfied: scipy>=1.2.3 in /usr/local/lib/python3.6/dist-packages (from sparse_dot_topn) (1.4.1)\n",
            "Building wheels for collected packages: sparse-dot-topn\n",
            "  Building wheel for sparse-dot-topn (setup.py) ... \u001b[?25l\u001b[?25hdone\n",
            "  Created wheel for sparse-dot-topn: filename=sparse_dot_topn-0.2.9-cp36-cp36m-linux_x86_64.whl size=322974 sha256=6e280bb3340e1984d8151e005be465ec7f12b7c47b9c279f0e043b8a294df1c9\n",
            "  Stored in directory: /root/.cache/pip/wheels/aa/e7/c7/e64559d518bcc12ed7e40a605ae304259b957ae8181c8d1e82\n",
            "Successfully built sparse-dot-topn\n",
            "Installing collected packages: sparse-dot-topn\n",
            "Successfully installed sparse-dot-topn-0.2.9\n",
            "Collecting ftfy\n",
            "\u001b[?25l  Downloading https://files.pythonhosted.org/packages/ff/e2/3b51c53dffb1e52d9210ebc01f1fb9f2f6eba9b3201fa971fd3946643c71/ftfy-5.8.tar.gz (64kB)\n",
            "\u001b[K     |████████████████████████████████| 71kB 3.5MB/s \n",
            "\u001b[?25hRequirement already satisfied: wcwidth in /usr/local/lib/python3.6/dist-packages (from ftfy) (0.2.5)\n",
            "Building wheels for collected packages: ftfy\n",
            "  Building wheel for ftfy (setup.py) ... \u001b[?25l\u001b[?25hdone\n",
            "  Created wheel for ftfy: filename=ftfy-5.8-cp36-none-any.whl size=45613 sha256=1eea02e09b4e7d604a8ff9f2271a0477ed3ed83a47d27bfa6ea674207983ecfe\n",
            "  Stored in directory: /root/.cache/pip/wheels/ba/c0/ef/f28c4da5ac84a4e06ac256ca9182fc34fa57fefffdbc68425b\n",
            "Successfully built ftfy\n",
            "Installing collected packages: ftfy\n",
            "Successfully installed ftfy-5.8\n"
          ],
          "name": "stdout"
        }
      ]
    },
    {
      "cell_type": "code",
      "metadata": {
        "id": "gGV4Pl6LTG-a"
      },
      "source": [
        "class SimilarityTFIDFNoPreProcessingMatcher:\n",
        "  # generate ngrams\n",
        "  def ngrams(_self, string, n=3):\n",
        "      string = fix_text(string) # fix text\n",
        "      string = string.encode(\"ascii\", errors=\"ignore\").decode() #remove non ascii chars\n",
        "      string = string.lower()\n",
        "      chars_to_remove = [\")\",\"(\",\".\",\"|\",\"[\",\"]\",\"{\",\"}\",\"'\"]\n",
        "      rx = '[' + re.escape(''.join(chars_to_remove)) + ']'\n",
        "      string = re.sub(rx, '', string)\n",
        "      string = string.replace('&', 'and')\n",
        "      string = string.replace(',', ' ')\n",
        "      string = string.replace('-', ' ')\n",
        "      string = string.title() # normalise case - capital at start of each word\n",
        "      string = re.sub(' +',' ',string).strip() # get rid of multiple spaces and replace with a single\n",
        "      string = ' '+ string +' ' # pad names for ngrams...\n",
        "      string = re.sub(r'[,-./]|\\sBD',r'', string)\n",
        "      ngrams = zip(*[string[i:] for i in range(n)])\n",
        "      return [''.join(ngram) for ngram in ngrams]\n",
        "\n",
        "  # cosine similarity\n",
        "  def apply_cosine_similarity(_self, A, B, ntop, lower_bound=0):\n",
        "      # force A and B as a CSR matrix.\n",
        "      # If they have already been CSR, there is no overhead\n",
        "      A = A.tocsr()\n",
        "      B = B.tocsr()\n",
        "      M, _ = A.shape\n",
        "      _, N = B.shape\n",
        "      idx_dtype = np.int32\n",
        "      nnz_max = M*ntop\n",
        "      indptr = np.zeros(M+1, dtype=idx_dtype)\n",
        "      indices = np.zeros(nnz_max, dtype=idx_dtype)\n",
        "      data = np.zeros(nnz_max, dtype=A.dtype)\n",
        "      ct.sparse_dot_topn(\n",
        "          M, N, np.asarray(A.indptr, dtype=idx_dtype),\n",
        "          np.asarray(A.indices, dtype=idx_dtype),\n",
        "          A.data,\n",
        "          np.asarray(B.indptr, dtype=idx_dtype),\n",
        "          np.asarray(B.indices, dtype=idx_dtype),\n",
        "          B.data,\n",
        "          ntop,\n",
        "          lower_bound,\n",
        "          indptr, indices, data)\n",
        "      return csr_matrix((data,indices,indptr),shape=(M,N))\n",
        "\n",
        "  # combine lists\n",
        "  def create_comparison_list(_self, utterance_list, sentence_list):\n",
        "    return np.array(utterance_list + sentence_list)\n",
        "\n",
        "  # create feature matrix\n",
        "  def create_feature_matrix(_self, utterance_list, sentence_list, comparator_function):\n",
        "    # append utterance to list\n",
        "    comparison_list = _self.create_comparison_list(utterance_list, sentence_list)\n",
        "    # create feature matrix\n",
        "    vectorizer = TfidfVectorizer(min_df=1, analyzer=comparator_function)\n",
        "    return vectorizer.fit_transform(comparison_list)\n",
        "\n",
        "  # match similarity\n",
        "  def match_similarity_batch(_self, utterance_list, sentence_list):\n",
        "    # prepare\n",
        "    n = len(utterance_list)\n",
        "    # create feature matrix\n",
        "    feature_matrix = _self.create_feature_matrix(utterance_list, sentence_list, _self.ngrams)\n",
        "    # get matches from cosine similarity\n",
        "    source_utterance_features = feature_matrix[0:n]\n",
        "    sentence_list_features = feature_matrix[n:]\n",
        "    matches = _self.apply_cosine_similarity(source_utterance_features, sentence_list_features.transpose(), 10, 0.85)\n",
        "    # get index of highest scoring sentence\n",
        "    result = []\n",
        "    for i in range(0, len(utterance_list)):\n",
        "      utterance = utterance_list[i]\n",
        "      index = matches[i].argmax(axis=1)[0,0]\n",
        "      score = matches[i, index]\n",
        "      matching_sentence = sentence_list[index]\n",
        "      result.append( (utterance, matching_sentence, score) )\n",
        "    # return \n",
        "    return result"
      ],
      "execution_count": null,
      "outputs": []
    },
    {
      "cell_type": "markdown",
      "metadata": {
        "id": "dJl-2Ld88dYc"
      },
      "source": [
        "## **Cosine Similarity TF-IDF - with preprocessing**"
      ]
    },
    {
      "cell_type": "markdown",
      "metadata": {
        "id": "v323WZPZ87VO"
      },
      "source": [
        "adding new utterance to feature matrix: https://stackoverflow.com/questions/39109743/adding-new-text-to-sklearn-tfidif-vectorizer-python"
      ]
    },
    {
      "cell_type": "code",
      "metadata": {
        "colab": {
          "base_uri": "https://localhost:8080/"
        },
        "id": "MxRZAezG8c7_",
        "outputId": "863c5cc3-c673-4aea-d1d2-f0d192090937"
      },
      "source": [
        "import sys\n",
        "import time\n",
        "import pandas as pd\n",
        "pd.set_option('display.max_colwidth', -1)\n",
        "from tqdm import tqdm\n",
        "import os\n",
        "from matplotlib import style\n",
        "style.use('fivethirtyeight')\n",
        "\n",
        "import numpy as np\n",
        "from scipy.sparse.dia import dia_matrix\n",
        "from sklearn.feature_extraction.text import TfidfVectorizer\n",
        "\n",
        "import re\n",
        "!pip install ftfy # amazing text cleaning for decode issues..\n",
        "from ftfy import fix_text"
      ],
      "execution_count": null,
      "outputs": [
        {
          "output_type": "stream",
          "text": [
            "/usr/local/lib/python3.6/dist-packages/ipykernel_launcher.py:4: FutureWarning: Passing a negative integer is deprecated in version 1.0 and will not be supported in future version. Instead, use None to not limit the column width.\n",
            "  after removing the cwd from sys.path.\n"
          ],
          "name": "stderr"
        },
        {
          "output_type": "stream",
          "text": [
            "Requirement already satisfied: ftfy in /usr/local/lib/python3.6/dist-packages (5.8)\n",
            "Requirement already satisfied: wcwidth in /usr/local/lib/python3.6/dist-packages (from ftfy) (0.2.5)\n"
          ],
          "name": "stdout"
        }
      ]
    },
    {
      "cell_type": "markdown",
      "metadata": {
        "id": "vLfmklqY8n9r"
      },
      "source": [
        "utilities"
      ]
    },
    {
      "cell_type": "code",
      "metadata": {
        "id": "WLE25TAg8ppB"
      },
      "source": [
        "import pickle\n",
        "\n",
        "class BinaryObjectStorageHandler:\n",
        "  # store method\n",
        "  def store_object(some_object, file_dir):\n",
        "    with open(file_dir, 'wb') as output:\n",
        "        pickle.dump(some_object, output, pickle.HIGHEST_PROTOCOL)\n",
        "\n",
        "  # load metho\n",
        "  def load_object(file_dir):\n",
        "    with open(file_dir, 'rb') as input:\n",
        "        return pickle.load(input)"
      ],
      "execution_count": null,
      "outputs": []
    },
    {
      "cell_type": "markdown",
      "metadata": {
        "id": "1ent63r18sDc"
      },
      "source": [
        "preprocessor"
      ]
    },
    {
      "cell_type": "code",
      "metadata": {
        "id": "_3WZjBGo8uzr"
      },
      "source": [
        "class SimilarityTFIDFWithPreProcessingPreprocessor:\n",
        "  # comparator function\n",
        "  def ngrams(_self, string, n=3):\n",
        "      string = fix_text(string) # fix text\n",
        "      string = string.encode(\"ascii\", errors=\"ignore\").decode() #remove non ascii chars\n",
        "      string = string.lower()\n",
        "      chars_to_remove = [\")\",\"(\",\".\",\"|\",\"[\",\"]\",\"{\",\"}\",\"'\"]\n",
        "      rx = '[' + re.escape(''.join(chars_to_remove)) + ']'\n",
        "      string = re.sub(rx, '', string)\n",
        "      string = string.replace('&', 'and')\n",
        "      string = string.replace(',', ' ')\n",
        "      string = string.replace('-', ' ')\n",
        "      string = string.title() # normalise case - capital at start of each word\n",
        "      string = re.sub(' +',' ',string).strip() # get rid of multiple spaces and replace with a single\n",
        "      string = ' '+ string +' ' # pad names for ngrams...\n",
        "      string = re.sub(r'[,-./]|\\sBD',r'', string)\n",
        "      ngrams = zip(*[string[i:] for i in range(n)])\n",
        "      return [''.join(ngram) for ngram in ngrams]\n",
        "\n",
        "  # create vectorizer\n",
        "  def create_vectorizer_internal(_self, sentence_list, comparator_function):\n",
        "    vec = TfidfVectorizer(min_df=1, analyzer=comparator_function)\n",
        "    tmp = vec.fit_transform(sentence_list)\n",
        "    vec.n_docs = len(sentence_list)\n",
        "    return vec, tmp\n",
        "\n",
        "  # create vectorizer\n",
        "  def create_and_store_vectorizer(_self, sentence_list, target_file):\n",
        "    vectorizer, features = _self.create_vectorizer_internal(sentence_list, _self.ngrams)\n",
        "    BinaryObjectStorageHandler.store_object(vectorizer, target_file)\n",
        "    BinaryObjectStorageHandler.store_object(features, \"./arr.pkl\")"
      ],
      "execution_count": null,
      "outputs": []
    },
    {
      "cell_type": "markdown",
      "metadata": {
        "id": "pqPzayq38xB3"
      },
      "source": [
        "runtime"
      ]
    },
    {
      "cell_type": "code",
      "metadata": {
        "id": "bHeFN6Cl8y37"
      },
      "source": [
        "# partial fit method\n",
        "def partial_fit(self, X):\n",
        "    max_idx = max(self.vocabulary_.values())\n",
        "    for a in X:\n",
        "        #update vocabulary_\n",
        "        if self.lowercase: a = a.lower()\n",
        "        tokens = re.findall(self.token_pattern, a)\n",
        "        for w in tokens:\n",
        "            if w not in self.vocabulary_:\n",
        "                max_idx += 1\n",
        "                self.vocabulary_[w] = max_idx\n",
        "        #update idf_\n",
        "        df = (self.n_docs + self.smooth_idf)/np.exp(self.idf_ - 1) - self.smooth_idf\n",
        "        self.n_docs += 1\n",
        "        df.resize(len(self.vocabulary_))\n",
        "        for w in tokens:\n",
        "            df[self.vocabulary_[w]] += 1\n",
        "        idf = np.log((self.n_docs + self.smooth_idf)/(df + self.smooth_idf)) + 1\n",
        "        self._tfidf._idf_diag = dia_matrix((idf, 0), shape=(len(idf), len(idf)))\n",
        "\n",
        "class SimilarityTFIDFWithPreProcessingMatcher:\n",
        "   # cosine similarity\n",
        "  def apply_cosine_similarity(_self, A, B, ntop, lower_bound=0):\n",
        "      # force A and B as a CSR matrix.\n",
        "      # If they have already been CSR, there is no overhead\n",
        "      A = A.tocsr()\n",
        "      B = B.tocsr()\n",
        "      M, _ = A.shape\n",
        "      _, N = B.shape\n",
        "      idx_dtype = np.int32\n",
        "      nnz_max = M*ntop\n",
        "      indptr = np.zeros(M+1, dtype=idx_dtype)\n",
        "      indices = np.zeros(nnz_max, dtype=idx_dtype)\n",
        "      data = np.zeros(nnz_max, dtype=A.dtype)\n",
        "      ct.sparse_dot_topn(\n",
        "          M, N, np.asarray(A.indptr, dtype=idx_dtype),\n",
        "          np.asarray(A.indices, dtype=idx_dtype),\n",
        "          A.data,\n",
        "          np.asarray(B.indptr, dtype=idx_dtype),\n",
        "          np.asarray(B.indices, dtype=idx_dtype),\n",
        "          B.data,\n",
        "          ntop,\n",
        "          lower_bound,\n",
        "          indptr, indices, data)\n",
        "      return csr_matrix((data,indices,indptr),shape=(M,N))\n",
        "  # similarity matching\n",
        "  def match_similarity_batch(_self, utterance_list, sentence_list, vectorizer_path):\n",
        "    # load vectorizer\n",
        "    vec = BinaryObjectStorageHandler.load_object(vectorizer_path)\n",
        "    sentences_features = BinaryObjectStorageHandler.load_object(\"./arr.pkl\")\n",
        "    # sentences_features = sentences_features[0:len(sentence_list),:]\n",
        "    # runtime step\n",
        "    TfidfVectorizer.partial_fit = partial_fit\n",
        "    #vec.partial_fit(utterance_list)\n",
        "    utterances_features = vec.transform(utterance_list)\n",
        "    # get matches from cosine similarity\n",
        "    matches = _self.apply_cosine_similarity(utterances_features, sentences_features.transpose(), 10, 0.85)\n",
        "    # get index of highest scoring sentence\n",
        "    result = []\n",
        "    for i in range(0, len(utterance_list)):\n",
        "      utterance = utterance_list[i]\n",
        "      index = matches[i].argmax(axis=1)[0,0]\n",
        "      score = matches[i, index]\n",
        "      matching_sentence = sentence_list[index]\n",
        "      result.append( (utterance, matching_sentence, score) )\n",
        "    return result"
      ],
      "execution_count": null,
      "outputs": []
    },
    {
      "cell_type": "markdown",
      "metadata": {
        "id": "mc9Q6Z_c8TnD"
      },
      "source": [
        "## **Load Testing**"
      ]
    },
    {
      "cell_type": "markdown",
      "metadata": {
        "id": "o6NzsGRF8luY"
      },
      "source": [
        " parameters\n",
        " \n",
        "    - input count\n",
        "        - dataset size: [10, 100, 1000, 10k, 20k]\n",
        "        - query list: [1, 10, 100, ..]\n",
        "    - string length\n",
        "        - dataset entry length\n",
        "        - query length\n",
        "    - list structure\n",
        "    - comparison approach\n",
        "        - edit distance                         [without preprocessing]\n",
        "        - cosine similarity (TF-IDF)            [with and without preprocessing]\n",
        "        - luis exact match for list entities    [pending]"
      ]
    },
    {
      "cell_type": "code",
      "metadata": {
        "id": "wl1WlZqh0fob"
      },
      "source": [
        "def single_test(dataset_loader, utterance_list_size, sentence_list_size):\n",
        "  # load data\n",
        "  utterance_list, sentence_list = dataset_loader.get_utterancelist_and_sentencelist(utterance_list_size, sentence_list_size)\n",
        "\n",
        "  # # run edit distance\n",
        "  # edit_distance = SimilarityEditDistance()\n",
        "  # ts = time.time()\n",
        "  # edit_distance.match_similarity_batch(utterance_list, sentence_list)\n",
        "  # time1 = time.time() - ts\n",
        "  time1=0\n",
        "\n",
        "  # run tfidf without preprocessing\n",
        "  tfidf_no_preprocessing = SimilarityTFIDFNoPreProcessingMatcher()\n",
        "  ts = time.time()\n",
        "  tfidf_no_preprocessing.match_similarity_batch(utterance_list, sentence_list)\n",
        "  time2 = time.time() - ts\n",
        "\n",
        "  # run tfidf with preprocessing\n",
        "  # preprocessor step\n",
        "  vectorizer_file_dir = \"./vectorizer.pkl\"\n",
        "  preprocessor = SimilarityTFIDFWithPreProcessingPreprocessor()\n",
        "  preprocessor.create_and_store_vectorizer(sentence_list, vectorizer_file_dir)\n",
        "\n",
        "  # runtime step\n",
        "  similarity_matcher = SimilarityTFIDFWithPreProcessingMatcher()\n",
        "  ts = time.time()\n",
        "  match_result2 = similarity_matcher.match_similarity_batch(utterance_list, sentence_list, vectorizer_file_dir)\n",
        "  time3 = time.time() - ts\n",
        "\n",
        "  # return\n",
        "  return (time1, time2, time3)"
      ],
      "execution_count": null,
      "outputs": []
    },
    {
      "cell_type": "code",
      "metadata": {
        "id": "ew5EvWwlv9YE",
        "colab": {
          "base_uri": "https://localhost:8080/",
          "height": 483
        },
        "outputId": "09066f73-f9f0-41f5-d256-1527f9b81f12"
      },
      "source": [
        "# load dataset\n",
        "dataset_loader = DataSetLoader()\n",
        "dataset_loader.download_and_load_dataset()\n",
        "\n",
        "# configure parms\n",
        "utterance_list_sizes = [1, 10]#, 100, 500]\n",
        "sentence_list_sizes = [10, 100, 1000, 10000, 20000]\n",
        "\n",
        "result = []\n",
        "\n",
        "# run tests\n",
        "for sentence_list_size in sentence_list_sizes:\n",
        "  print(sentence_list_size)\n",
        "  d1 = []\n",
        "  for utterance_list_size in utterance_list_sizes:\n",
        "    t1, t2, t3 = single_test(dataset_loader, utterance_list_size, sentence_list_size)\n",
        "    d1.append([t1, t2, t3])\n",
        "  result.append(d1)\n",
        "\n",
        "print(result)\n",
        "tmp = np.array(result)\n",
        "\n",
        "# write to file\n",
        "file = open(\"resultArr\", \"wb\")\n",
        "np.save(file, result)\n",
        "file.close\n",
        "result = np.log(tmp)\n",
        "\n",
        "print(result.shape)\n",
        "import matplotlib.pyplot as plt\n",
        "\n",
        "fig, ax = plt.subplots()\n",
        "\n",
        "# A little data preparation\n",
        "sizes = [str(i) for i in sentence_list_sizes]\n",
        "x = np.arange(len(sizes))\n",
        "width = 0.15\n",
        "\n",
        "# Plot each bar plot. Note: manually calculating the 'dodges' of the bars\n",
        "ax.bar(x - 3*width/2, result[:,0,0], width, label='edit distance', color='#0343df')\n",
        "ax.bar(x - width/2, result[:,0,1], width, label='no preprocess', color='#e50000')\n",
        "ax.bar(x + width/2, result[:,0,2], width, label='preprocess', color='#ffff14')\n",
        "\n",
        "# Customise some display properties\n",
        "ax.set_ylabel('Time')\n",
        "ax.set_xticks(x)    # This ensures we have one tick per year, otherwise we get fewer\n",
        "ax.set_xticklabels(sizes, rotation='vertical')\n",
        "ax.legend()\n",
        "\n",
        "# Ask Matplotlib to show the plot\n",
        "plt.show()"
      ],
      "execution_count": null,
      "outputs": [
        {
          "output_type": "stream",
          "text": [
            "Downloading 1vcaNbiZkZ-6ZORn-S_UbdGY3kGrCx4O7 into ./dataset.csv... Done.\n",
            "10\n",
            "100\n",
            "1000\n",
            "10000\n",
            "20000\n",
            "[[[0, 0.003999233245849609, 0.0016243457794189453], [0, 0.005962371826171875, 0.003886699676513672]], [[0, 0.012890815734863281, 0.0023589134216308594], [0, 0.014739513397216797, 0.004753828048706055]], [[0, 0.10613393783569336, 0.004708290100097656], [0, 0.09184980392456055, 0.007620573043823242]], [[0, 0.8362610340118408, 0.015773534774780273], [0, 0.8439946174621582, 0.02016139030456543]], [[0, 1.6433982849121094, 0.03191256523132324], [0, 1.6581671237945557, 0.035620689392089844]]]\n",
            "(5, 2, 3)\n"
          ],
          "name": "stdout"
        },
        {
          "output_type": "stream",
          "text": [
            "/usr/local/lib/python3.6/dist-packages/ipykernel_launcher.py:27: RuntimeWarning: divide by zero encountered in log\n"
          ],
          "name": "stderr"
        },
        {
          "output_type": "display_data",
          "data": {
            "image/png": "[encoded data removed]",
            "text/plain": [
              "<Figure size 432x288 with 1 Axes>"
            ]
          },
          "metadata": {
            "tags": []
          }
        }
      ]
    },
    {
      "cell_type": "code",
      "metadata": {
        "colab": {
          "base_uri": "https://localhost:8080/",
          "height": 350
        },
        "id": "xvVljWkCWZwy",
        "outputId": "c8177a3f-d450-411c-e9da-a8643b94bca5"
      },
      "source": [
        "import numpy as np\n",
        "\n",
        "# configure parms\n",
        "utterance_list_sizes = [1, 10, 100, 500]\n",
        "sentence_list_sizes = [10, 100, 1000, 10000, 20000]\n",
        "\n",
        "result = []\n",
        "result.append([[[0, 0.004275798797607422, 0.001767873764038086], [0, 0.006043195724487305, 0.0040111541748046875]], [[0, 0.012948989868164062, 0.0026047229766845703], [0, 0.016620635986328125, 0.005438566207885742]], [[0, 0.10017824172973633, 0.0047550201416015625], [0, 0.09229230880737305, 0.007485389709472656]], [[0, 0.8421554565429688, 0.01674056053161621], [0, 0.8598895072937012, 0.02068352699279785]], [[0, 1.6626455783843994, 0.028696537017822266], [0, 1.6508851051330566, 0.03372788429260254]]])\n",
        "result.append([[[0, 0.004827260971069336, 0.001720428466796875], [0, 0.0059223175048828125, 0.003920316696166992]], [[0, 0.13001370429992676, 0.0025339126586914062], [0, 0.014837980270385742, 0.007491588592529297]], [[0, 0.09318375587463379, 0.0051462650299072266], [0, 0.10021018981933594, 0.007293224334716797]], [[0, 0.8525230884552002, 0.01570296287536621], [0, 0.831655740737915, 0.02130603790283203]], [[0, 1.684692144393921, 0.03030991554260254], [0, 1.6700401306152344, 0.03558945655822754]]])\n",
        "result.append([[[0, 0.0039577484130859375, 0.001758575439453125], [0, 0.00608372688293457, 0.004508018493652344]], [[0, 0.013242483139038086, 0.002655029296875], [0, 0.01498723030090332, 0.004999637603759766]], [[0, 0.09087967872619629, 0.004946470260620117], [0, 0.09885764122009277, 0.009286165237426758]], [[0, 0.8502545356750488, 0.014743566513061523], [0, 0.8486065864562988, 0.020524978637695312]], [[0, 1.6537344455718994, 0.03352618217468262], [0, 1.6980571746826172, 0.035097599029541016]]])\n",
        "result.append([[[0, 0.004828214645385742, 0.0017542839050292969], [0, 0.006005525588989258, 0.004017353057861328]], [[0, 0.013204336166381836, 0.0025064945220947266], [0, 0.015186071395874023, 0.005008697509765625]], [[0, 0.09062480926513672, 0.004876136779785156], [0, 0.09192585945129395, 0.007459163665771484]], [[0, 0.8477497100830078, 0.014615297317504883], [0, 0.8394958972930908, 0.01956939697265625]], [[0, 1.672548532485962, 0.02754354476928711], [0, 1.6949853897094727, 0.03250455856323242]]])\n",
        "\n",
        "result = np.mean(np.array(result), axis=0)\n",
        "\n",
        "print(result.shape)\n",
        "import matplotlib.pyplot as plt\n",
        "\n",
        "fig, ax = plt.subplots()\n",
        "\n",
        "# A little data preparation\n",
        "sizes = [str(i) for i in sentence_list_sizes]\n",
        "x = np.arange(len(sizes))\n",
        "width = 0.25\n",
        "\n",
        "# Plot each bar plot. Note: manually calculating the 'dodges' of the bars\n",
        "# ax.bar(x - 3*width/2, result[:,0,0], width, label='edit distance', color='#0343df')\n",
        "# ax.bar(x - width/2, result[:,0,1], width, label='no preprocess', color='#e50000')\n",
        "ax.bar(x - width/2, result2[:,0,2], width, label='1 query', color='#ffff14')\n",
        "ax.bar(x + width/2, result2[:,1,2], width, label='10 queries', color='#e50000')\n",
        "\n",
        "# Customise some display properties\n",
        "ax.set_ylabel('Time')\n",
        "ax.set_title('Cosine Distance with preprocessing')\n",
        "ax.set_xticks(x)    # This ensures we have one tick per year, otherwise we get fewer\n",
        "ax.set_xticklabels(sizes, rotation='vertical')\n",
        "ax.legend()\n",
        "\n",
        "# Ask Matplotlib to show the plot\n",
        "plt.show()"
      ],
      "execution_count": null,
      "outputs": [
        {
          "output_type": "stream",
          "text": [
            "(5, 2, 3)\n"
          ],
          "name": "stdout"
        },
        {
          "output_type": "display_data",
          "data": {
            "image/png": "[encoded data removed]",
            "text/plain": [
              "<Figure size 432x288 with 1 Axes>"
            ]
          },
          "metadata": {
            "tags": []
          }
        }
      ]
    }
  ]
}